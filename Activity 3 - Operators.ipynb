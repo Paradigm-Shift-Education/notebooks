{
 "cells": [
  {
   "cell_type": "markdown",
   "metadata": {},
   "source": [
    "Operators are something that I’m sure we’ve all often seen in math, but at their basis they are just a way to manipulate numbers through operations. Some examples of basic operation in mathematics are multiplication, division and addition, and we see many of these same operators in Python. Many operators act exactly the same as they do in Math, but there are a few which suit specific needs for computer scientists.\n",
    "Operators are generally characterized by how many numbers, or parts, are involved in the calculation. Typically, they have either one or two parts, making them “unary” or “binary” respectively. Most operators are binary, with a few being unary, notably not and  unary negation (-a).  Operators are useful in many circumstances, from doing the basic math that is critical to everyday programming to deciding whether a program has fulfilled certain conditions.\n",
    "Here is a list of operators you’ll encounter in many programming languages:\n",
    "```python\n",
    "a + b  # addition\n",
    "a - b  # subtraction\n",
    "a * b  # multiplication\n",
    "a / b  # division (this is the one you are likely familiar with)\n",
    "a % b  # remainder of a / b\n",
    "a // b # floor division (the biggest whole number a(a // b) < b)\n",
    "a ** b # exponentiation (a to the power of b)\n",
    "```\n",
    "\n",
    "Mathematical operators \n",
    "Evaluates to a number (aside from string concatenation)\n",
    "Boolean operators \n",
    "Evaluates to a `True` or `False`\n",
    "\n",
    "\n",
    "```python\n",
    "a == b  # equality\n",
    "a != b  # inequality\n",
    "a < b   # strictly less than\n",
    "a <= b  # less than or equal to\n",
    "a > b   # strictly greater than\n",
    "a >= b  # greater than or equal to\n",
    "a and b # conjunction\n",
    "```\n",
    "Evaluates to `True` if and only if both `a` and `b` are `True`\n",
    "```python\n",
    "a or b # disjunction\n",
    "```\n",
    "Evaluates to `True` if either one of a or b (or both) is `True`\n",
    "```python\n",
    "not a # negation\n",
    "```\n",
    "Evaluates to `True` only if `a` is `False`\n",
    "\n",
    "Let’s take a look at an extremely simple example of an operator that you’re all familiar with, addition.\n",
    "```python\n",
    ">>> a = 1 + 2\n",
    ">>> a\n",
    "3\n",
    "```\n",
    "As we can see, the operator in this case is binary, since it takes in two inputs, and then it finally spits out a result, which is 3 in this case. Since you should already be fairly familiar with how the common operators work, let’s take a look at some of the unique aspects of operators:"
   ]
  }
 ],
 "metadata": {
  "kernelspec": {
   "display_name": "Python 3",
   "language": "python",
   "name": "python3"
  },
  "language_info": {
   "codemirror_mode": {
    "name": "ipython",
    "version": 3
   },
   "file_extension": ".py",
   "mimetype": "text/x-python",
   "name": "python",
   "nbconvert_exporter": "python",
   "pygments_lexer": "ipython3",
   "version": "3.5.2"
  }
 },
 "nbformat": 4,
 "nbformat_minor": 1
}
