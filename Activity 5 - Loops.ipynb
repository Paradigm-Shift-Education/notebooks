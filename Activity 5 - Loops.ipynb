{
 "cells": [
  {
   "cell_type": "markdown",
   "metadata": {},
   "source": [
    "If you’ve ever been on a roller coaster, you know the mounting feeling of suspense as you’re strapped into your seat and the ride starts to inch higher and higher, followed by the most exhilarating drop of your life, as you embark on a thrill ride of your life, filled with barrel rolls into two corkscrews in quick succession followed by a drop that makes your stomach feel likes it’s jumping out of your mouth, but finally the ride screeches to a halt as you approach the platform. You have a choice: do you keep going or stop.\n",
    "\n",
    "Computer scientists created the concept of a loop to represent doing something until some condition is met. In terms of our roller coaster example, the condition could be whether  you’re having fun, and the body of the loop that you do would be going on the ride. Each time you do whatever is inside the loop, such as going on the ride, is called one iteration of the loop. This concept is called a while loop, and this is what the syntax looks like:\n",
    "```python\n",
    "while <condition is True>:\n",
    "\t<Do something>\n",
    "```\n",
    "Let’s look at this again in terms of our roller coaster example. First, let’s declare a variable having_fun which evaluates to True you’re still enjoying the ride and False otherwise. This variable will be our condition. Initially having_fun is equal to true, since you love roller coasters! If you want to ride the roller coaster until you’re no longer having fun, the resulting loop would look like this:"
   ]
  },
  {
   "cell_type": "code",
   "execution_count": 2,
   "metadata": {
    "collapsed": false
   },
   "outputs": [],
   "source": [
    "# having_fun: # While you are having fun, go on the ride\n",
    "# while having_fun:\n",
    "#     print(\"Look mom, I’m getting on a rollercoaster!\")\n",
    "#     print(\"Barrel Roll\")\n",
    "#     print(\"Double Corkscrew\")\n",
    "#     print(\"WOOOOOOHOOOOOOOO\")\n",
    "#     print(\"Awwwwww, it’s over\")?"
   ]
  },
  {
   "cell_type": "markdown",
   "metadata": {},
   "source": [
    "Now if you try running this, you’ll realize that it runs forever. Since you’re always having fun, you’d never stop getting on the ride, but that’s not what we want. We know that at some point, we would get tired of the ride, and stop having fun. In other words, we need our condition to no longer be True at some point, otherwise the body of the loop will run infinitely. Let’s say that you love roller coasters, and you won’t stop having fun until you’ve gone on the ride 5 times. Let’s define another variable, num_rides, which is the number of rides that you have gone on so far. If we have gone on  the roller coaster 5 times, then we want to set having_fun to False since we are no longer enjoying ourselves. Let’s look at this in code:"
   ]
  },
  {
   "cell_type": "code",
   "execution_count": 4,
   "metadata": {
    "collapsed": false
   },
   "outputs": [
    {
     "name": "stdout",
     "output_type": "stream",
     "text": [
      "Look mom, I’m getting on a rollercoaster!\n",
      "Barrel Roll\n",
      "Double Corkscrew\n",
      "WOOOOOOHOOOOOOOO\n",
      "Awwwwww, it’s over\n",
      "Look mom, I’m getting on a rollercoaster!\n",
      "Barrel Roll\n",
      "Double Corkscrew\n",
      "WOOOOOOHOOOOOOOO\n",
      "Awwwwww, it’s over\n",
      "Look mom, I’m getting on a rollercoaster!\n",
      "Barrel Roll\n",
      "Double Corkscrew\n",
      "WOOOOOOHOOOOOOOO\n",
      "Awwwwww, it’s over\n",
      "Look mom, I’m getting on a rollercoaster!\n",
      "Barrel Roll\n",
      "Double Corkscrew\n",
      "WOOOOOOHOOOOOOOO\n",
      "Awwwwww, it’s over\n",
      "Look mom, I’m getting on a rollercoaster!\n",
      "Barrel Roll\n",
      "Double Corkscrew\n",
      "WOOOOOOHOOOOOOOO\n",
      "Awwwwww, it’s over\n",
      "Look mom, I’m getting on a rollercoaster!\n",
      "Barrel Roll\n",
      "Double Corkscrew\n",
      "WOOOOOOHOOOOOOOO\n",
      "Awwwwww, it’s over\n"
     ]
    }
   ],
   "source": [
    "num_rides = 0 # Initially we’ve gone on 0 rides\n",
    "having_fun = True # having_fun is True, since you love rides!\n",
    "while having_fun:\n",
    "    print(\"Look mom, I’m getting on a rollercoaster!\")\n",
    "    print(\"Barrel Roll\")\n",
    "    print(\"Double Corkscrew\")\n",
    "    print(\"WOOOOOOHOOOOOOOO\")\n",
    "    print(\"Awwwwww, it’s over\")\n",
    "    num_rides += 1 # we completed another ride!\n",
    "    if num_rides > 5: # If we’ve rode the ride more than 5 times\n",
    "        having_fun = False # Then set having_fun to False"
   ]
  },
  {
   "cell_type": "markdown",
   "metadata": {},
   "source": [
    "Now, you’ll see that this loop here, will run 5 times, while you’re still having fun, but once you stop having fun, you’ll be done riding the roller coaster. Try changing number of rides until you set having_fun to False, and see what happens!\n",
    "\n",
    "Now let’s consider a slightly different example. Let’s say that your mom, who’s extremely scared of roller coasters, decides to give it a go since she saw how much fun you were having. She’s filled with excitement, but unfortunately, as soon as she hit the first barrel roll, she immediately realizes that roller coasters just aren’t her cup of tea, and immediately stops having fun. Let’s look at this situation in code:"
   ]
  },
  {
   "cell_type": "code",
   "execution_count": 9,
   "metadata": {
    "collapsed": false
   },
   "outputs": [
    {
     "name": "stdout",
     "output_type": "stream",
     "text": [
      "Look son, I’m getting on a rollercoaster!! :)\n",
      "Barrel Roll\n",
      "This is awful, get me out of here…\n",
      "Double Corkscrew\n",
      "Ahhhhhhhhhhhhhhh!\n",
      "Finally, I can get out of this death trap...\n"
     ]
    }
   ],
   "source": [
    "having_fun = True # Mom’s excited to go on the ride\n",
    "while having_fun:\n",
    "    print(\"Look son, I’m getting on a rollercoaster!! :)\")\n",
    "    print(\"Barrel Roll\")\n",
    "    print(\"This is awful, get me out of here…\")\n",
    "    having_fun = False # Mom realizes she’s not having fun :(\n",
    "    print(\"Double Corkscrew\")\n",
    "    print(\"Ahhhhhhhhhhhhhhh!\")\n",
    "    print(\"Finally, I can get out of this death trap...\")"
   ]
  },
  {
   "cell_type": "markdown",
   "metadata": {},
   "source": [
    "Now you might ask, your mom realized she wasn’t having fun halfway through the ride, why didn’t she just get off? Well, like actual roller coasters, we can’t just stop halfway through the loop, once we get on, we have to go through the entire ride. This is because the condition for the loop is only checked before each iteration of the loop. Now you might think to yourself, that’s not a very good system, what if an emergency comes up and I need to get off right away?? That’s exactly  why computer scientists came up with the concept of break, which breaks you out of whatever loop you’re currently in.\n",
    "\n",
    "As a more concrete example of breaking out of a loop, let’s imagine that your mom is on the roller coaster again (Oh no!), and instead of just not having fun, she is scared out of her mind and thinks she’s going to have a heart attack. She starts screaming at the top of her lungs for the operator to stop the ride and get help. The operator complies and stops the ride and paramedics are on their way to rescue her! Let’s see what this scenario would look like:"
   ]
  },
  {
   "cell_type": "code",
   "execution_count": 13,
   "metadata": {
    "collapsed": false
   },
   "outputs": [
    {
     "name": "stdout",
     "output_type": "stream",
     "text": [
      "Look son, I’m getting on a rollercoaster!! :)\n",
      "Barrel Roll\n",
      "AHHHH I’M HAVING A HEART ATTACK!!!\n",
      "HEEEEEEEEELP! STOP THE RIDE!!!!!\n"
     ]
    }
   ],
   "source": [
    "having_fun = True # Mom’s excited to go on the ride\n",
    "while having_fun:\n",
    "    print(\"Look son, I’m getting on a rollercoaster!! :)\")\n",
    "    print(\"Barrel Roll\")\n",
    "    print(\"AHHHH I’M HAVING A HEART ATTACK!!!\")\n",
    "    print(\"HEEEEEEEEELP! STOP THE RIDE!!!!!\")\n",
    "    having_fun = False # Mom realizes she’s not having fun :(\n",
    "    break # Operator stops the ride and calls for help\n",
    "    print(\"Double Corkscrew\")\n",
    "    print(\"Ahhhhhhhhhhhhhhh!\")\n",
    "    print(\"Finally, I can get out of this death trap…\")"
   ]
  },
  {
   "cell_type": "markdown",
   "metadata": {},
   "source": [
    "As you can see, nothing after the break, including the double corkscrew, are ever reached. This makes a break point a pretty big deal. It means that none of the other riders will get to experience that double corkscrew, and have to stop in the middle of their ride. \n",
    "\n",
    "One other thing to keep in mind, is that when you do break out of a loop, it only breaks out of the innermost loop you are in, if you have many nested loops. A nested loop, is basically just having a loop inside of another loop. Let’s look at a quick example of this:"
   ]
  },
  {
   "cell_type": "code",
   "execution_count": 2,
   "metadata": {
    "collapsed": false
   },
   "outputs": [
    {
     "name": "stdout",
     "output_type": "stream",
     "text": [
      "*\n",
      "\n",
      "*\n",
      "*\n",
      "\n",
      "*\n",
      "*\n",
      "*\n",
      "\n",
      "*\n",
      "*\n",
      "*\n",
      "*\n",
      "\n",
      "*\n",
      "*\n",
      "*\n",
      "*\n",
      "*\n",
      "\n",
      "*\n",
      "*\n",
      "*\n",
      "*\n",
      "*\n",
      "*\n",
      "\n",
      "*\n",
      "*\n",
      "*\n",
      "*\n",
      "*\n",
      "*\n",
      "*\n",
      "\n",
      "*\n",
      "*\n",
      "*\n",
      "*\n",
      "*\n",
      "*\n",
      "*\n",
      "*\n",
      "\n",
      "*\n",
      "*\n",
      "*\n",
      "*\n",
      "*\n",
      "*\n",
      "*\n",
      "*\n",
      "*\n",
      "\n",
      "*\n",
      "*\n",
      "*\n",
      "*\n",
      "*\n",
      "*\n",
      "*\n",
      "*\n",
      "*\n",
      "*\n",
      "\n"
     ]
    }
   ],
   "source": [
    "i = 1\n",
    "while i <= 10:\n",
    "    j = 0\n",
    "    # Print i stars\n",
    "    while j < i:\n",
    "        print(\"*\")\n",
    "        j = j + 1\n",
    "    print(\"\") # Go to the next line\n",
    "    i = i + 1 # Increment i"
   ]
  },
  {
   "cell_type": "markdown",
   "metadata": {},
   "source": [
    "Although this may seem intimidating at first, this function basically just prints 1, then 2, then 3, all the way to 10 stars. Now let’s say instead of printing out stars until we reach 10, we want to instead stop after we have printed 5 stars. This means we want to break out of the loop when we try to print 6 stars. Let’s try adding in this break statement!"
   ]
  },
  {
   "cell_type": "code",
   "execution_count": 4,
   "metadata": {
    "collapsed": false
   },
   "outputs": [
    {
     "name": "stdout",
     "output_type": "stream",
     "text": [
      "*\n",
      "\n",
      "*\n",
      "*\n",
      "\n",
      "*\n",
      "*\n",
      "*\n",
      "\n",
      "*\n",
      "*\n",
      "*\n",
      "*\n",
      "\n",
      "*\n",
      "*\n",
      "*\n",
      "*\n",
      "*\n",
      "\n",
      "\n",
      "*\n",
      "*\n",
      "*\n",
      "*\n",
      "*\n",
      "*\n",
      "*\n",
      "\n",
      "*\n",
      "*\n",
      "*\n",
      "*\n",
      "*\n",
      "*\n",
      "*\n",
      "*\n",
      "\n",
      "*\n",
      "*\n",
      "*\n",
      "*\n",
      "*\n",
      "*\n",
      "*\n",
      "*\n",
      "*\n",
      "\n",
      "*\n",
      "*\n",
      "*\n",
      "*\n",
      "*\n",
      "*\n",
      "*\n",
      "*\n",
      "*\n",
      "*\n",
      "\n"
     ]
    }
   ],
   "source": [
    "i = 1\n",
    "while i <= 10:\n",
    "    # Print i stars\n",
    "    j = 0\n",
    "    while j < i:\n",
    "        if (i == 6): # If we already printed 5 stars\n",
    "            break # Then break out of the loop\n",
    "        print(\"*\")\n",
    "        j = j + 1\n",
    "    print(\"\") # Go to the next line\n",
    "    i = i + 1 # Increment i"
   ]
  },
  {
   "cell_type": "markdown",
   "metadata": {},
   "source": [
    "Now if we run this, we realize that it doesn’t quite do what we wanted it to do. Instead of stopping to print stars after printing 5, it just skips the the 6th line of stars. It does this because the break statement only breaks out of the inner loop with j, which is just printing the stars on the current line. If we want to break out of both loops, and completely stop printing stars, then we must add two break statements!"
   ]
  },
  {
   "cell_type": "code",
   "execution_count": 9,
   "metadata": {
    "collapsed": false
   },
   "outputs": [],
   "source": [
    "while i <= 10: # Outer Loop\n",
    "    # Print i stars\n",
    "    j = 0\n",
    "    while j < i: # Inner loop\n",
    "        if (i == 6): # If we already printed 5 stars\n",
    "            break # Then break out of the inner loop\n",
    "            break # Then break out of the outer loop\n",
    "        print(\"*\")\n",
    "        j = j + 1\n",
    "    print(\"\") # Go to the next line\n",
    "    i = i + 1 # Increment i"
   ]
  },
  {
   "cell_type": "markdown",
   "metadata": {},
   "source": [
    "Finally, this gets us the desired result! So finally, in review, loops are a powerful tool that computer scientists use to repeat some sequence of instructions repeatedly until some condition is met. But with great power comes great responsibility. Be careful not to end up like mom -- stuck in the middle of a loop that you don’t want to be in!"
   ]
  }
 ],
 "metadata": {
  "kernelspec": {
   "display_name": "Python 3",
   "language": "python",
   "name": "python3"
  },
  "language_info": {
   "codemirror_mode": {
    "name": "ipython",
    "version": 3
   },
   "file_extension": ".py",
   "mimetype": "text/x-python",
   "name": "python",
   "nbconvert_exporter": "python",
   "pygments_lexer": "ipython3",
   "version": "3.5.2"
  }
 },
 "nbformat": 4,
 "nbformat_minor": 1
}
