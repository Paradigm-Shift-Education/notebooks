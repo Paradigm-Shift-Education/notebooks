{
 "cells": [
  {
   "cell_type": "markdown",
   "metadata": {},
   "source": [
    "# If Statements\n",
    "\n",
    "\n",
    "We’re now going to introduce one of the most powerful tools in all of Computer Science: `If Statements`! \n",
    "\n",
    "What these allow us to do is check **if** a certain condition is **True**. You probably already make a bunch of if statements in your everyday life without even realizing it! For example, **if** it is raining outside, you will bring an umbrella with you to school. **If** you have a test tomorrow, you probably should be studying instead of watching a movie. \n",
    "\n",
    "In both these cases, we have a `condition`, and a *response* if that `condition == True`. `If statements` in Python follow a very standard format, and you’ll probably be using them all the time. A standard case looks like this:"
   ]
  },
  {
   "cell_type": "markdown",
   "metadata": {
    "collapsed": false
   },
   "source": [
    "`if <condition == True>:\n",
    "    <response>`"
   ]
  },
  {
   "cell_type": "markdown",
   "metadata": {},
   "source": [
    "Now let’s think of some if statements on your own. Let’s say I have a number in my head -- let's call it `x`, and I want to know if it’s positive. What condition has to be true for all positive numbers? \n",
    "\n",
    "If you’re thinking `x` has to be greater than 0, you’d be correct. Therefore, we can say that if `x` is greater than 0, `x` must be positive. \n",
    "\n",
    "Let’s see how that’d look in Python! Run the code below by clicking it and pressing <span style=\"color:red;font-family:monospace\">Shift+Enter</span> at the same time."
   ]
  },
  {
   "cell_type": "code",
   "execution_count": 16,
   "metadata": {
    "collapsed": false
   },
   "outputs": [
    {
     "name": "stdout",
     "output_type": "stream",
     "text": [
      "X is positive!\n"
     ]
    }
   ],
   "source": [
    "x = 5\n",
    "\n",
    "if x > 0:\n",
    "    print( \"X is positive!\" )"
   ]
  },
  {
   "cell_type": "markdown",
   "metadata": {},
   "source": [
    "It’s that simple!  The computer will simply read the first line and evaluate if the condition of `x > 0 == True`. If it is, the code within the `if statement` will run. Try to think what this `if statement` will evaluate to for the following `x` values: `{1, 5, 100, -1}`. Hint: you can change the value of x above and run it again!\n",
    "\n",
    "These should all `print` the word positive, with the exception of when `x = -1`, in which case `x` *is not* greater than `0`, so the computer doesn’t even bother to read the code within the statement. \n",
    "\n",
    "You might be wondering what it means to be “within” the if statement. This is what the colon is used for. The colon is placed right after the condition to “open” the code that will be read `if` the condition is `True`. \n",
    "\n",
    "It’s also important to realize that all code within the `if statement` should be indented one time, easily done with a press of the `Tab` key. Indentations are vital to coding properly in Python, so make sure you know at which indent you should be working in!"
   ]
  },
  {
   "cell_type": "markdown",
   "metadata": {
    "collapsed": false
   },
   "source": [
    "Remember when we said `x = -1` ? Because `(-1 > 0)` is not `True`, the computer simply reads it as `False`, and all the code within isn’t even looked at. This brings a good point, what does it mean to be `True or False` ? \n",
    "\n",
    "It’s important to realize that the computer reads your condition as a whole, and evaluates it either to be `True` or `False` . Regardless of what your condition is, or how long it can be, the computer will always evaluate it to `True` or `False` and act accordingly. \n",
    "\n",
    "When we have conditions such as: `if (x > 0)`, the condition will evaluate to `True` when `x` is 1 or greater, and will evaluate to `False` otherwise. Let’s look at a few more conditions, and try to figure out whether they evaluate to `True` or `False`. \n",
    "    "
   ]
  },
  {
   "cell_type": "code",
   "execution_count": 2,
   "metadata": {
    "collapsed": false
   },
   "outputs": [
    {
     "data": {
      "text/plain": [
       "False"
      ]
     },
     "execution_count": 2,
     "metadata": {},
     "output_type": "execute_result"
    }
   ],
   "source": [
    "x = 4\n",
    "y = 10\n",
    "\n",
    "(x > y)"
   ]
  },
  {
   "cell_type": "code",
   "execution_count": 3,
   "metadata": {
    "collapsed": false
   },
   "outputs": [
    {
     "data": {
      "text/plain": [
       "True"
      ]
     },
     "execution_count": 3,
     "metadata": {},
     "output_type": "execute_result"
    }
   ],
   "source": [
    "x = 4\n",
    "y = 10\n",
    "\n",
    "(x < y)"
   ]
  },
  {
   "cell_type": "code",
   "execution_count": 4,
   "metadata": {
    "collapsed": false
   },
   "outputs": [
    {
     "data": {
      "text/plain": [
       "False"
      ]
     },
     "execution_count": 4,
     "metadata": {},
     "output_type": "execute_result"
    }
   ],
   "source": [
    "a = 3\n",
    "b = 7\n",
    "\n",
    "(a == b)"
   ]
  },
  {
   "cell_type": "code",
   "execution_count": 5,
   "metadata": {
    "collapsed": false
   },
   "outputs": [
    {
     "data": {
      "text/plain": [
       "True"
      ]
     },
     "execution_count": 5,
     "metadata": {},
     "output_type": "execute_result"
    }
   ],
   "source": [
    "a = 7\n",
    "b = 5\n",
    "c = 30\n",
    "\n",
    "(a * b > c)"
   ]
  },
  {
   "cell_type": "code",
   "execution_count": 6,
   "metadata": {
    "collapsed": false
   },
   "outputs": [
    {
     "data": {
      "text/plain": [
       "True"
      ]
     },
     "execution_count": 6,
     "metadata": {},
     "output_type": "execute_result"
    }
   ],
   "source": [
    "variable_1 = 15\n",
    "variable_2 = 7\n",
    "\n",
    "(variable_1 - variable_2 > variable_2)"
   ]
  },
  {
   "cell_type": "code",
   "execution_count": 7,
   "metadata": {
    "collapsed": false
   },
   "outputs": [
    {
     "data": {
      "text/plain": [
       "True"
      ]
     },
     "execution_count": 7,
     "metadata": {},
     "output_type": "execute_result"
    }
   ],
   "source": [
    "x = 5\n",
    "y = 8\n",
    "\n",
    "((x > 0) and (y > 0))"
   ]
  },
  {
   "cell_type": "markdown",
   "metadata": {},
   "source": [
    "You might have some questions about the last one. Let's break it down into steps:\n",
    "\n",
    "We know that `x = 5` and `y = 8` . You probably evalauted that `x > 0` is `True` and that `y > 0` is `True`. This is the same thing as `((True) and (True))` The `and` operator will notice that both sides are `True`, and will evaluate the entire equation as `True`."
   ]
  },
  {
   "cell_type": "markdown",
   "metadata": {},
   "source": [
    "Another thing we want to introduce is a useful complement to if statements: `else:` . In the case that your `if statement` condition is not `True`, we often want to have something in place that the computer will run otherwise. This is what the `else:` term is used for. Let’s say that if your residential area has a population of over 100,000, it’s a city. If it’s less than that, we’ll call it a town. We’ll write a program that prints either town or city based on population, which we can express as `p`. Try to find what we're changing and how that changes the result that gets printed."
   ]
  },
  {
   "cell_type": "code",
   "execution_count": 8,
   "metadata": {
    "collapsed": false
   },
   "outputs": [
    {
     "name": "stdout",
     "output_type": "stream",
     "text": [
      "town\n"
     ]
    }
   ],
   "source": [
    "p = 15000\n",
    "\n",
    "if p > 100000:\n",
    "    print(\"city\")\n",
    "else:\n",
    "    print(\"town\")    "
   ]
  },
  {
   "cell_type": "code",
   "execution_count": 9,
   "metadata": {
    "collapsed": false
   },
   "outputs": [
    {
     "name": "stdout",
     "output_type": "stream",
     "text": [
      "city\n"
     ]
    }
   ],
   "source": [
    "p = 120000\n",
    "\n",
    "if p > 100000:\n",
    "    print(\"city\")\n",
    "else:\n",
    "    print(\"town\")\n"
   ]
  },
  {
   "cell_type": "markdown",
   "metadata": {},
   "source": [
    "Lastly, we can also use `elif`, which stands for \"else if\", to check a different condition should the first one fail. This is useful for programmers to be able to test as many conditions as they'd like, specifically when previous conditions are not met. In this next example, we'll modify our program that prints out residential areas. Let's now say that a population of 100,000 or more is a city, a population of 25,000 or more is a town, otherwise, it's a village."
   ]
  },
  {
   "cell_type": "code",
   "execution_count": 10,
   "metadata": {
    "collapsed": false
   },
   "outputs": [
    {
     "name": "stdout",
     "output_type": "stream",
     "text": [
      "city\n"
     ]
    }
   ],
   "source": [
    "p = 125000\n",
    "\n",
    "if p > 100000:\n",
    "    print (\"city\")\n",
    "elif p > 25000:\n",
    "    print (\"town\")\n",
    "else:\n",
    "    print(\"village\")"
   ]
  },
  {
   "cell_type": "code",
   "execution_count": 11,
   "metadata": {
    "collapsed": false
   },
   "outputs": [
    {
     "name": "stdout",
     "output_type": "stream",
     "text": [
      "town\n"
     ]
    }
   ],
   "source": [
    "p = 75000\n",
    "\n",
    "if p > 100000:\n",
    "    print (\"city\")\n",
    "elif p > 25000:\n",
    "    print (\"town\")\n",
    "else:\n",
    "    print(\"village\")"
   ]
  },
  {
   "cell_type": "code",
   "execution_count": 12,
   "metadata": {
    "collapsed": false
   },
   "outputs": [
    {
     "name": "stdout",
     "output_type": "stream",
     "text": [
      "village\n"
     ]
    }
   ],
   "source": [
    "p = 15000\n",
    "\n",
    "if p > 100000:\n",
    "    print(\"city\")\n",
    "elif p > 25000:\n",
    "    print(\"town\")\n",
    "else:\n",
    "    print(\"village\")\n",
    "    "
   ]
  },
  {
   "cell_type": "code",
   "execution_count": null,
   "metadata": {
    "collapsed": true
   },
   "outputs": [],
   "source": []
  }
 ],
 "metadata": {
  "kernelspec": {
   "display_name": "Python 3",
   "language": "python",
   "name": "python3"
  },
  "language_info": {
   "codemirror_mode": {
    "name": "ipython",
    "version": 3
   },
   "file_extension": ".py",
   "mimetype": "text/x-python",
   "name": "python",
   "nbconvert_exporter": "python",
   "pygments_lexer": "ipython3",
   "version": "3.4.3"
  }
 },
 "nbformat": 4,
 "nbformat_minor": 1
}
