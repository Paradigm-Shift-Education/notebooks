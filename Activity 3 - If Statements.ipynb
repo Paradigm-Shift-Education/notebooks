{
 "cells": [
  {
   "cell_type": "markdown",
   "metadata": {},
   "source": [
    "# If Statements\n",
    "\n",
    "\n",
    "We’re now going to introduce one of the most powerful tools in all of Computer Science: `If Statements`! \n",
    "\n",
    "What these allow us to do is check **if** a certain condition is **True**. You probably already make a bunch of if statements in your everyday life without even realizing it! For example, **if** it is raining outside, you will bring an umbrella with you to school. **If** you have a test tomorrow, you probably should be studying instead of watching a movie. \n",
    "\n",
    "In both these cases, we have a `condition`, and a *response* if that `condition == True`. `If statements` in Python follow a very standard format, and you’ll probably be using them all the time. A standard case looks like this:"
   ]
  },
  {
   "cell_type": "code",
   "execution_count": null,
   "metadata": {
    "collapsed": false
   },
   "outputs": [],
   "source": [
    "if <condition == True>:\n",
    "    <response>"
   ]
  },
  {
   "cell_type": "markdown",
   "metadata": {},
   "source": [
    "Now let’s think of some if statements on your own. Let’s say I have a number in my head -- let's call it `x`, and I want to know if it’s positive. What condition has to be true for all positive numbers? \n",
    "\n",
    "If you’re thinking `x` has to be greater than 0, you’d be correct. Therefore, we can say that if `x` is greater than 0, `x` must be positive. \n",
    "\n",
    "Let’s see how that’d look in Python! Run the code below by clicking it and pressing <span style=\"color:red;font-family:monospace\">Shift+Enter</span> at the same time"
   ]
  },
  {
   "cell_type": "code",
   "execution_count": 3,
   "metadata": {
    "collapsed": false
   },
   "outputs": [],
   "source": [
    "x = 5\n",
    "\n",
    "if x > 0:\n",
    "    print( \"X is positive!\" )"
   ]
  },
  {
   "cell_type": "markdown",
   "metadata": {},
   "source": [
    "It’s that simple!  The computer will simply read the first line and evaluate if the condition of `x > 0 == True`. If it is, the code within the `if statement` will run. Try to think what this `if statement` will evaluate to for the following `x` values: `{1, 5, 100, -1}`. Hint: you can change the value of x above and run it again!\n",
    "\n",
    "These should all `print` the word positive, with the exception of when `x=-1`, in which case `x` *is not* greater than `0`, so the computer doesn’t even bother to read the code within the statement. \n",
    "\n",
    "You might be wondering what it means to be “within” the if statement. This is what the colon is used for. The colon is placed right after the condition to “open” the code that will be read `if` the condition is `True`. \n",
    "\n",
    "It’s also important to realize that all code within the `if statement` should be indented one time, easily done with a press of the `Tab` key. Indentations are vital to coding properly in Python, so make sure you know at which indent you should be working in!"
   ]
  },
  {
   "cell_type": "code",
   "execution_count": 5,
   "metadata": {
    "collapsed": false
   },
   "outputs": [],
   "source": [
    "#@Arthur: keep going here!"
   ]
  },
  {
   "cell_type": "code",
   "execution_count": null,
   "metadata": {
    "collapsed": true
   },
   "outputs": [],
   "source": []
  }
 ],
 "metadata": {
  "kernelspec": {
   "display_name": "Python 3",
   "language": "python",
   "name": "python3"
  },
  "language_info": {
   "codemirror_mode": {
    "name": "ipython",
    "version": 3
   },
   "file_extension": ".py",
   "mimetype": "text/x-python",
   "name": "python",
   "nbconvert_exporter": "python",
   "pygments_lexer": "ipython3",
   "version": "3.4.3"
  }
 },
 "nbformat": 4,
 "nbformat_minor": 1
}
