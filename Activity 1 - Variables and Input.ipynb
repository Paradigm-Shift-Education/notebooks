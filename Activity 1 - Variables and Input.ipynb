{
 "cells": [
  {
   "cell_type": "markdown",
   "metadata": {},
   "source": [
    "In our last activity, we saw how we can print our neighbors name. But what if we move and change neighbors? Consider the following code."
   ]
  },
  {
   "cell_type": "code",
   "execution_count": 5,
   "metadata": {
    "collapsed": false
   },
   "outputs": [
    {
     "name": "stdout",
     "output_type": "stream",
     "text": [
      "Hello, Jerry\n"
     ]
    }
   ],
   "source": [
    "neighbor = \"Jerry\"\n",
    "print(\"Hello, {}\".format(neighbor))"
   ]
  },
  {
   "cell_type": "markdown",
   "metadata": {},
   "source": [
    "Try running it! What happened? You can see that we can now put in placeholder values, called variables, to take the place of our neighbor's name which might not always be the same. In the above code, it will always be \"Jerry\", but as we get further along, we'll see ways that we can change the variable and make things more interesting.\n",
    "\n",
    "You may already be familiar with variables from math. The idea is very similar, but has some notable differences in Python which we will cover as we go. We're used to seeing variables in math as input to functions, so let's introduce you to Python's functions:"
   ]
  },
  {
   "cell_type": "code",
   "execution_count": 7,
   "metadata": {
    "collapsed": true
   },
   "outputs": [],
   "source": [
    "def hello(neighbor):\n",
    "    print(\"Hello, {}\".format(neighbor))"
   ]
  },
  {
   "cell_type": "markdown",
   "metadata": {},
   "source": [
    "Here, we're just leaving the definition of the variable to the code calling our function. It's like saying $f(x) = 2 x - x^2$: we don't know what $x$ is at the moment, but we've already done all of the hard work for someone who wants to find $2x - x^2$. In the same way, we've now done all of the hard work for someone wanting to say hello to their neighbor, allowing them to just call our function:"
   ]
  },
  {
   "cell_type": "code",
   "execution_count": 9,
   "metadata": {
    "collapsed": false
   },
   "outputs": [
    {
     "name": "stdout",
     "output_type": "stream",
     "text": [
      "Hello, Jerry\n",
      "Hello, Tom\n"
     ]
    }
   ],
   "source": [
    "hello(\"Jerry\")\n",
    "hello(\"Tom\")"
   ]
  },
  {
   "cell_type": "markdown",
   "metadata": {},
   "source": [
    "Now we didn't have to repeat ourselves! All thanks to the power of variables and functions.\n",
    "\n",
    "Try it yourself, in the space below, say \"hello\" to your neighbor. Yes the one physically sitting next to you, if you don't know their name yet, this is a perfect chance to introduce yourself."
   ]
  },
  {
   "cell_type": "code",
   "execution_count": null,
   "metadata": {
    "collapsed": true
   },
   "outputs": [],
   "source": []
  },
  {
   "cell_type": "markdown",
   "metadata": {},
   "source": [
    "We can also set multiple variables at once, let's says we want to introduce two of our friends to each other. Consider the following:"
   ]
  },
  {
   "cell_type": "code",
   "execution_count": 10,
   "metadata": {
    "collapsed": true
   },
   "outputs": [],
   "source": [
    "def introduce(friend1, friend2):\n",
    "    print(\"{} this is {}\").format(friend1, friend2)\n",
    "    print(\"{} this is {}\").format(friend2, friend1)"
   ]
  },
  {
   "cell_type": "markdown",
   "metadata": {},
   "source": [
    "In the space below, introduce your left and right neighbors:"
   ]
  },
  {
   "cell_type": "code",
   "execution_count": null,
   "metadata": {
    "collapsed": true
   },
   "outputs": [],
   "source": []
  },
  {
   "cell_type": "markdown",
   "metadata": {},
   "source": [
    "In the above code, we notice we're still repeating ourselves a bit, so let's try to do better. Complete introduce_one_way yourself, and check that it works as expected."
   ]
  },
  {
   "cell_type": "code",
   "execution_count": 11,
   "metadata": {
    "collapsed": true
   },
   "outputs": [],
   "source": [
    "def introduce(friend1, friend2):\n",
    "    introduce_one_way(friend1, friend2)\n",
    "    introduce_one_way(friend2, friend1)\n",
    "    \n",
    "def introduce_one_way(first, second):\n",
    "    pass"
   ]
  },
  {
   "cell_type": "markdown",
   "metadata": {},
   "source": [
    "Use the space below to check that you get the same results as the first introduce function. Note that we have redefined the introduce function, so the previous one is no longer available unless we rerun its cell, in which case it will overwrite this second definition."
   ]
  },
  {
   "cell_type": "code",
   "execution_count": null,
   "metadata": {
    "collapsed": true
   },
   "outputs": [],
   "source": []
  }
 ],
 "metadata": {
  "kernelspec": {
   "display_name": "Python 3",
   "language": "python",
   "name": "python3"
  },
  "language_info": {
   "codemirror_mode": {
    "name": "ipython",
    "version": 3
   },
   "file_extension": ".py",
   "mimetype": "text/x-python",
   "name": "python",
   "nbconvert_exporter": "python",
   "pygments_lexer": "ipython3",
   "version": "3.5.2"
  }
 },
 "nbformat": 4,
 "nbformat_minor": 1
}
