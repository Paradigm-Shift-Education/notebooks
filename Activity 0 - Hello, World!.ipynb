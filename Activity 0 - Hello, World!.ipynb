{
 "cells": [
  {
   "cell_type": "markdown",
   "metadata": {},
   "source": [
    "# Hello, World!"
   ]
  },
  {
   "cell_type": "markdown",
   "metadata": {},
   "source": [
    "When you think about computer science, you may think about 1s and 0s and complicated algorithms. While these are a part of computer science, all of your hours sculpting a masterful algorithm are no good if it can’t interact with the world! There forms of IO (input/output) through which we can interact with our programs, in this series of activities, we will be simplfying things, and giving you a *Jupyter Notebook*, which is what you are in right now."
   ]
  },
  {
   "cell_type": "markdown",
   "metadata": {},
   "source": [
    "This particular Jupyter notebook uses the Python 3 programming language. While Python 3 (specifically 3.5.2 at the time of writing) is the newest version of the Python programming language, Python 2 is still commonly used. While the two are very similar, they are not strictly interoperable, and so you may encounter code that does not run in Python 3 because it was written for Python 2. Don't worry about this too much, but be aware of it."
   ]
  },
  {
   "cell_type": "markdown",
   "metadata": {},
   "source": [
    "Let's now write our first Python program! We'll start simple, we just want to greet the world in the box below, type `print(\"Hello, World!\")`, and then click the run button."
   ]
  },
  {
   "cell_type": "code",
   "execution_count": null,
   "metadata": {
    "collapsed": true
   },
   "outputs": [],
   "source": []
  },
  {
   "cell_type": "markdown",
   "metadata": {},
   "source": [
    "In the code above, we told Python to print/write \"Hello, World!\" into the output of our program, which shows up below the box when the code is run."
   ]
  },
  {
   "cell_type": "markdown",
   "metadata": {},
   "source": [
    "Now let’s try doing something more interesting: say hello to your neighbour.\n",
    "- If you don’t already know it, ask the neighbor to your right their name.\n",
    "- Type `print(\"Hello, \" + <name> + \"!\")` into the box below where <name> is replaced by your right neighbour’s name in quotes (e.g. `print(\"Hello, \" + \"Emily\" + \"!\")`).\n",
    "- Now find out the name of your neighbor to the left\n",
    "- Type `print(\"Hello, {name}\".format(name: <name>))` into the box below where <name> is replaced by your left neighbour’s name in quotes (e.g. `print(\"Hello, {name}!\".format(name=\"Jacob\"))`)\n",
    "\n",
    "\n",
    "We’ve now seen two ways to add a name (or any other phrase) to a print statement. Basically, in the first example, we can add or “concatenate” two “strings” (like `\"Hello, \"`, `\"Emily\"` or `\"!\"`), this works similarly to adding numbers (e.g. `\"Hello, \" + \"Emily\"` gives us `\"Hello, Emily\"` and `\"Hello, Emily\" + \"!\"` (equivalent to `\"Hello, \" + \"Emily\" + \"!\"`) gives us `\"Hello, Emily!\"`, a single string that we can print just like `\"Hello, World!\"`.\n",
    "\n",
    "In the second example, we use a feature of Python called “string formatting”, that allows us to insert strings into a template without manually writing out all of the string addition (there is more to string formatting than this, but you don’t need to worry about that for now). In our example `\"Hello, {name}!\".format(name=\"Jacob\")` inserts `\"Jacob\"` in the place of `\"{name}\"` in the template `\"Hello, {name}!\"`, giving us the final string `\"Hello, Jacob!\"`, which we print out to the terminal. We could do the same with other templates (e.g. `\"Hi, I’m from {place}\".format(place=\"California\")`)."
   ]
  },
  {
   "cell_type": "code",
   "execution_count": null,
   "metadata": {
    "collapsed": true
   },
   "outputs": [],
   "source": []
  }
 ],
 "metadata": {
  "kernelspec": {
   "display_name": "Python 3",
   "language": "python",
   "name": "python3"
  },
  "language_info": {
   "codemirror_mode": {
    "name": "ipython",
    "version": 3
   },
   "file_extension": ".py",
   "mimetype": "text/x-python",
   "name": "python",
   "nbconvert_exporter": "python",
   "pygments_lexer": "ipython3",
   "version": "3.5.2"
  }
 },
 "nbformat": 4,
 "nbformat_minor": 1
}
